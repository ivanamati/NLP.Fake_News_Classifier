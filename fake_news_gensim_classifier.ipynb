{
 "cells": [
  {
   "cell_type": "code",
   "execution_count": 13,
   "metadata": {},
   "outputs": [
    {
     "name": "stderr",
     "output_type": "stream",
     "text": [
      "c:\\Users\\Ivana\\anaconda3\\lib\\site-packages\\spacy\\util.py:910: UserWarning: [W095] Model 'en_core_web_sm' (3.6.0) was trained with spaCy v3.6.0 and may not be 100% compatible with the current version (3.7.2). If you see errors or degraded performance, download a newer compatible model or retrain your custom model with the current spaCy version. For more details and available updates, run: python -m spacy validate\n",
      "  warnings.warn(warn_msg)\n"
     ]
    }
   ],
   "source": [
    "import pandas as pd\n",
    "import spacy\n",
    "\n",
    "from sklearn.model_selection import train_test_split\n",
    "from sklearn.metrics import confusion_matrix, classification_report\n",
    "from sklearn.linear_model import LogisticRegression\n",
    "from sklearn.ensemble import RandomForestClassifier\n",
    "from sklearn.naive_bayes import MultinomialNB\n",
    "from sklearn.pipeline import Pipeline\n",
    "from sklearn.ensemble import GradientBoostingClassifier\n",
    "\n",
    "import matplotlib.pyplot as plt \n",
    "import seaborn as sns\n",
    "\n",
    "nlp = spacy.load(\"en_core_web_sm\")"
   ]
  },
  {
   "cell_type": "code",
   "execution_count": 2,
   "metadata": {},
   "outputs": [
    {
     "data": {
      "text/html": [
       "<div>\n",
       "<style scoped>\n",
       "    .dataframe tbody tr th:only-of-type {\n",
       "        vertical-align: middle;\n",
       "    }\n",
       "\n",
       "    .dataframe tbody tr th {\n",
       "        vertical-align: top;\n",
       "    }\n",
       "\n",
       "    .dataframe thead th {\n",
       "        text-align: right;\n",
       "    }\n",
       "</style>\n",
       "<table border=\"1\" class=\"dataframe\">\n",
       "  <thead>\n",
       "    <tr style=\"text-align: right;\">\n",
       "      <th></th>\n",
       "      <th>Unnamed: 0</th>\n",
       "      <th>title</th>\n",
       "      <th>text</th>\n",
       "      <th>label</th>\n",
       "    </tr>\n",
       "  </thead>\n",
       "  <tbody>\n",
       "    <tr>\n",
       "      <th>0</th>\n",
       "      <td>8476</td>\n",
       "      <td>You Can Smell Hillary’s Fear</td>\n",
       "      <td>Daniel Greenfield, a Shillman Journalism Fello...</td>\n",
       "      <td>FAKE</td>\n",
       "    </tr>\n",
       "    <tr>\n",
       "      <th>1</th>\n",
       "      <td>10294</td>\n",
       "      <td>Watch The Exact Moment Paul Ryan Committed Pol...</td>\n",
       "      <td>Google Pinterest Digg Linkedin Reddit Stumbleu...</td>\n",
       "      <td>FAKE</td>\n",
       "    </tr>\n",
       "    <tr>\n",
       "      <th>2</th>\n",
       "      <td>3608</td>\n",
       "      <td>Kerry to go to Paris in gesture of sympathy</td>\n",
       "      <td>U.S. Secretary of State John F. Kerry said Mon...</td>\n",
       "      <td>REAL</td>\n",
       "    </tr>\n",
       "    <tr>\n",
       "      <th>3</th>\n",
       "      <td>10142</td>\n",
       "      <td>Bernie supporters on Twitter erupt in anger ag...</td>\n",
       "      <td>— Kaydee King (@KaydeeKing) November 9, 2016 T...</td>\n",
       "      <td>FAKE</td>\n",
       "    </tr>\n",
       "    <tr>\n",
       "      <th>4</th>\n",
       "      <td>875</td>\n",
       "      <td>The Battle of New York: Why This Primary Matters</td>\n",
       "      <td>It's primary day in New York and front-runners...</td>\n",
       "      <td>REAL</td>\n",
       "    </tr>\n",
       "  </tbody>\n",
       "</table>\n",
       "</div>"
      ],
      "text/plain": [
       "   Unnamed: 0                                              title  \\\n",
       "0        8476                       You Can Smell Hillary’s Fear   \n",
       "1       10294  Watch The Exact Moment Paul Ryan Committed Pol...   \n",
       "2        3608        Kerry to go to Paris in gesture of sympathy   \n",
       "3       10142  Bernie supporters on Twitter erupt in anger ag...   \n",
       "4         875   The Battle of New York: Why This Primary Matters   \n",
       "\n",
       "                                                text label  \n",
       "0  Daniel Greenfield, a Shillman Journalism Fello...  FAKE  \n",
       "1  Google Pinterest Digg Linkedin Reddit Stumbleu...  FAKE  \n",
       "2  U.S. Secretary of State John F. Kerry said Mon...  REAL  \n",
       "3  — Kaydee King (@KaydeeKing) November 9, 2016 T...  FAKE  \n",
       "4  It's primary day in New York and front-runners...  REAL  "
      ]
     },
     "execution_count": 2,
     "metadata": {},
     "output_type": "execute_result"
    }
   ],
   "source": [
    "df = pd.read_csv(\"fake_or_real_news.csv\")\n",
    "df.head()"
   ]
  },
  {
   "cell_type": "code",
   "execution_count": 3,
   "metadata": {},
   "outputs": [
    {
     "data": {
      "text/html": [
       "<div>\n",
       "<style scoped>\n",
       "    .dataframe tbody tr th:only-of-type {\n",
       "        vertical-align: middle;\n",
       "    }\n",
       "\n",
       "    .dataframe tbody tr th {\n",
       "        vertical-align: top;\n",
       "    }\n",
       "\n",
       "    .dataframe thead th {\n",
       "        text-align: right;\n",
       "    }\n",
       "</style>\n",
       "<table border=\"1\" class=\"dataframe\">\n",
       "  <thead>\n",
       "    <tr style=\"text-align: right;\">\n",
       "      <th></th>\n",
       "      <th>Unnamed: 0</th>\n",
       "      <th>title</th>\n",
       "      <th>text</th>\n",
       "      <th>label</th>\n",
       "      <th>label_indx</th>\n",
       "      <th>text_title</th>\n",
       "    </tr>\n",
       "  </thead>\n",
       "  <tbody>\n",
       "    <tr>\n",
       "      <th>0</th>\n",
       "      <td>8476</td>\n",
       "      <td>You Can Smell Hillary’s Fear</td>\n",
       "      <td>Daniel Greenfield, a Shillman Journalism Fello...</td>\n",
       "      <td>FAKE</td>\n",
       "      <td>0</td>\n",
       "      <td>You Can Smell Hillary’s Fear Daniel Greenfield...</td>\n",
       "    </tr>\n",
       "    <tr>\n",
       "      <th>1</th>\n",
       "      <td>10294</td>\n",
       "      <td>Watch The Exact Moment Paul Ryan Committed Pol...</td>\n",
       "      <td>Google Pinterest Digg Linkedin Reddit Stumbleu...</td>\n",
       "      <td>FAKE</td>\n",
       "      <td>0</td>\n",
       "      <td>Watch The Exact Moment Paul Ryan Committed Pol...</td>\n",
       "    </tr>\n",
       "    <tr>\n",
       "      <th>2</th>\n",
       "      <td>3608</td>\n",
       "      <td>Kerry to go to Paris in gesture of sympathy</td>\n",
       "      <td>U.S. Secretary of State John F. Kerry said Mon...</td>\n",
       "      <td>REAL</td>\n",
       "      <td>1</td>\n",
       "      <td>Kerry to go to Paris in gesture of sympathy U....</td>\n",
       "    </tr>\n",
       "    <tr>\n",
       "      <th>3</th>\n",
       "      <td>10142</td>\n",
       "      <td>Bernie supporters on Twitter erupt in anger ag...</td>\n",
       "      <td>— Kaydee King (@KaydeeKing) November 9, 2016 T...</td>\n",
       "      <td>FAKE</td>\n",
       "      <td>0</td>\n",
       "      <td>Bernie supporters on Twitter erupt in anger ag...</td>\n",
       "    </tr>\n",
       "    <tr>\n",
       "      <th>4</th>\n",
       "      <td>875</td>\n",
       "      <td>The Battle of New York: Why This Primary Matters</td>\n",
       "      <td>It's primary day in New York and front-runners...</td>\n",
       "      <td>REAL</td>\n",
       "      <td>1</td>\n",
       "      <td>The Battle of New York: Why This Primary Matte...</td>\n",
       "    </tr>\n",
       "  </tbody>\n",
       "</table>\n",
       "</div>"
      ],
      "text/plain": [
       "   Unnamed: 0                                              title  \\\n",
       "0        8476                       You Can Smell Hillary’s Fear   \n",
       "1       10294  Watch The Exact Moment Paul Ryan Committed Pol...   \n",
       "2        3608        Kerry to go to Paris in gesture of sympathy   \n",
       "3       10142  Bernie supporters on Twitter erupt in anger ag...   \n",
       "4         875   The Battle of New York: Why This Primary Matters   \n",
       "\n",
       "                                                text label  label_indx  \\\n",
       "0  Daniel Greenfield, a Shillman Journalism Fello...  FAKE           0   \n",
       "1  Google Pinterest Digg Linkedin Reddit Stumbleu...  FAKE           0   \n",
       "2  U.S. Secretary of State John F. Kerry said Mon...  REAL           1   \n",
       "3  — Kaydee King (@KaydeeKing) November 9, 2016 T...  FAKE           0   \n",
       "4  It's primary day in New York and front-runners...  REAL           1   \n",
       "\n",
       "                                          text_title  \n",
       "0  You Can Smell Hillary’s Fear Daniel Greenfield...  \n",
       "1  Watch The Exact Moment Paul Ryan Committed Pol...  \n",
       "2  Kerry to go to Paris in gesture of sympathy U....  \n",
       "3  Bernie supporters on Twitter erupt in anger ag...  \n",
       "4  The Battle of New York: Why This Primary Matte...  "
      ]
     },
     "execution_count": 3,
     "metadata": {},
     "output_type": "execute_result"
    }
   ],
   "source": [
    "df['label_indx'] = df['label'].map({'FAKE':0, 'REAL':1})\n",
    "df['text_title'] = df['title'] +' '+ df['text']\n",
    "df.head()"
   ]
  },
  {
   "cell_type": "code",
   "execution_count": 9,
   "metadata": {},
   "outputs": [
    {
     "name": "stderr",
     "output_type": "stream",
     "text": [
      "c:\\Users\\Ivana\\anaconda3\\lib\\site-packages\\seaborn\\_decorators.py:36: FutureWarning: Pass the following variable as a keyword arg: x. From version 0.12, the only valid positional argument will be `data`, and passing other arguments without an explicit keyword will result in an error or misinterpretation.\n",
      "  warnings.warn(\n"
     ]
    },
    {
     "data": {
      "text/plain": [
       "<AxesSubplot:xlabel='label_indx', ylabel='count'>"
      ]
     },
     "execution_count": 9,
     "metadata": {},
     "output_type": "execute_result"
    },
    {
     "data": {
      "image/png": "[encoded data removed]",
      "text/plain": [
       "<Figure size 432x288 with 1 Axes>"
      ]
     },
     "metadata": {
      "needs_background": "light"
     },
     "output_type": "display_data"
    }
   ],
   "source": [
    "sns.countplot(df['label_indx'])"
   ]
  },
  {
   "cell_type": "code",
   "execution_count": 4,
   "metadata": {},
   "outputs": [],
   "source": [
    "import gensim.downloader as api\n",
    "wv = api.load('word2vec-google-news-300')"
   ]
  },
  {
   "cell_type": "code",
   "execution_count": 7,
   "metadata": {},
   "outputs": [],
   "source": [
    "def preprocess_and_vectorize(text):\n",
    "    # remove stop words and lemmatize the text\n",
    "    doc = nlp(text)\n",
    "    filtered_tokens = []\n",
    "    for token in doc:\n",
    "        if token.is_punct or token.is_digit or token.like_url:\n",
    "            continue\n",
    "        filtered_tokens.append(token.lemma_)\n",
    "        \n",
    "    try:\n",
    "        return wv.get_mean_vector(filtered_tokens)\n",
    "    except Exception as e:\n",
    "        print(\"dogodila se greska\", e)"
   ]
  },
  {
   "cell_type": "code",
   "execution_count": 8,
   "metadata": {},
   "outputs": [
    {
     "data": {
      "text/plain": [
       "array([ 0.01503711,  0.01890298,  0.02338167,  0.03267407, -0.01973882,\n",
       "       -0.0166866 ,  0.01120497, -0.0511964 ,  0.03387058,  0.02771544,\n",
       "       -0.02702312, -0.03586482,  0.00016783,  0.01400911, -0.04481346,\n",
       "        0.02149447,  0.02290015,  0.03053961,  0.00322027, -0.01668262,\n",
       "       -0.01087961,  0.01664118, -0.00028311, -0.00907496,  0.02207248,\n",
       "        0.00294756, -0.03783665,  0.00637679,  0.01727123,  0.01554882,\n",
       "        0.00024112, -0.00431536, -0.03417267, -0.00760511,  0.01422607,\n",
       "       -0.00238578,  0.01103   , -0.00510534,  0.0102528 ,  0.0262839 ,\n",
       "        0.03674519, -0.01282009,  0.04113595, -0.0015574 , -0.01341007,\n",
       "       -0.00033302, -0.02168722,  0.01206129, -0.00214201,  0.02988937,\n",
       "        0.01633071,  0.02965554, -0.00672834, -0.00823506, -0.01218286,\n",
       "        0.01289048, -0.03537066, -0.02076528,  0.005363  , -0.03349149,\n",
       "       -0.0183529 ,  0.03257347, -0.03337145, -0.03150991, -0.01433665,\n",
       "       -0.00627955, -0.01756448,  0.0400595 , -0.00291126,  0.03156997,\n",
       "        0.00782821,  0.01301347,  0.03372561,  0.01133559, -0.03061033,\n",
       "       -0.0206798 ,  0.03510004,  0.0481873 ,  0.01854903,  0.04376702,\n",
       "        0.01886455, -0.03566968,  0.01737106, -0.00222194, -0.01436784,\n",
       "       -0.0361401 , -0.04176084,  0.028011  , -0.00844247,  0.01393714,\n",
       "        0.02196155,  0.00437656, -0.02582901, -0.05135877, -0.01303891,\n",
       "       -0.02755834,  0.02816252,  0.00857985, -0.00987761, -0.00623486,\n",
       "       -0.01567178, -0.02760652,  0.00805919,  0.00238471, -0.01728158,\n",
       "       -0.01895113, -0.01016259, -0.0365358 ,  0.01038781, -0.02832629,\n",
       "       -0.01395703, -0.00145779, -0.01431259,  0.00093945,  0.0181393 ,\n",
       "       -0.00203209,  0.02338814, -0.01702405,  0.04676221,  0.03196887,\n",
       "       -0.04348305, -0.00327571, -0.02817925,  0.01946262, -0.02233906,\n",
       "       -0.01993636, -0.00896093, -0.01962684,  0.00221152,  0.00815261,\n",
       "       -0.00948306, -0.03488832, -0.03831602, -0.03250195, -0.0158992 ,\n",
       "       -0.04142807,  0.00630159,  0.00386645, -0.0052342 ,  0.02650063,\n",
       "        0.02222027, -0.02290325,  0.01024885, -0.0133395 ,  0.0057796 ,\n",
       "        0.00510892, -0.00857054, -0.03129982, -0.03007415,  0.01316471,\n",
       "        0.01717415,  0.01473234, -0.02081343,  0.00987671, -0.00229802,\n",
       "       -0.02055232, -0.02136054, -0.03875241, -0.00318016,  0.00147987,\n",
       "       -0.00533883,  0.01852592,  0.02119905,  0.00510864,  0.01512196,\n",
       "       -0.02303037,  0.01843784, -0.00495994,  0.02964796, -0.00728246,\n",
       "       -0.04352336, -0.01628833, -0.01140022, -0.05219644, -0.0061082 ,\n",
       "       -0.02934187,  0.02010821, -0.02381372, -0.00894765, -0.01481293,\n",
       "       -0.03842188, -0.01762527, -0.00275665,  0.00446829, -0.00091622,\n",
       "       -0.01101868,  0.00494861,  0.00521846,  0.04047024,  0.03079745,\n",
       "        0.01843102,  0.01494496,  0.01592425,  0.01602907, -0.03179424,\n",
       "        0.00745347, -0.00882074,  0.00056581, -0.0161099 , -0.05503729,\n",
       "        0.00721309,  0.02149788, -0.0088377 , -0.00209383,  0.01041308,\n",
       "       -0.00939401,  0.00217914,  0.00778849,  0.01190555, -0.01074007,\n",
       "       -0.00847701, -0.00270962, -0.00444457,  0.01503739, -0.05041205,\n",
       "        0.01042049,  0.02696777,  0.00160814, -0.04114585, -0.00539958,\n",
       "        0.00467021, -0.00231198, -0.00902321, -0.01690919,  0.02946523,\n",
       "       -0.02649131,  0.03123847,  0.03338676,  0.03725713,  0.00375318,\n",
       "        0.01464472, -0.01786843,  0.00757648,  0.00142675,  0.02718503,\n",
       "       -0.01114564, -0.00255607, -0.0145418 ,  0.01955603, -0.01325719,\n",
       "        0.00286429, -0.00998685, -0.00294134, -0.02443247, -0.00040489,\n",
       "        0.00663809,  0.01231082,  0.00791621,  0.00096091, -0.00626109,\n",
       "        0.00315449,  0.01411434,  0.0116099 ,  0.00990817,  0.02877616,\n",
       "       -0.00587459,  0.02719777,  0.01432116, -0.02517571, -0.0157727 ,\n",
       "        0.01117819,  0.00731379, -0.00906807,  0.03774587,  0.0381258 ,\n",
       "        0.04980173, -0.00262247,  0.00396102, -0.01877291,  0.00588609,\n",
       "        0.02586726,  0.03446077,  0.04050423,  0.01007766,  0.0172078 ,\n",
       "       -0.03077818, -0.00842615, -0.0414821 , -0.01353836, -0.00996496,\n",
       "        0.0045122 , -0.01166318,  0.00456301,  0.03526665,  0.01130885,\n",
       "        0.00336867, -0.03697547, -0.00414257,  0.00750815,  0.01671233,\n",
       "       -0.02533084,  0.00243044, -0.02644922,  0.00719861, -0.00750344,\n",
       "       -0.00318889, -0.00528505, -0.01695949,  0.02717579, -0.02269655],\n",
       "      dtype=float32)"
      ]
     },
     "execution_count": 8,
     "metadata": {},
     "output_type": "execute_result"
    }
   ],
   "source": [
    "preprocess_and_vectorize(df.text_title[2])"
   ]
  },
  {
   "cell_type": "code",
   "execution_count": 11,
   "metadata": {},
   "outputs": [],
   "source": [
    "df['review_w2v'] = df['text_title'].apply(lambda text: preprocess_and_vectorize(text))"
   ]
  },
  {
   "cell_type": "code",
   "execution_count": 12,
   "metadata": {},
   "outputs": [
    {
     "data": {
      "text/html": [
       "<div>\n",
       "<style scoped>\n",
       "    .dataframe tbody tr th:only-of-type {\n",
       "        vertical-align: middle;\n",
       "    }\n",
       "\n",
       "    .dataframe tbody tr th {\n",
       "        vertical-align: top;\n",
       "    }\n",
       "\n",
       "    .dataframe thead th {\n",
       "        text-align: right;\n",
       "    }\n",
       "</style>\n",
       "<table border=\"1\" class=\"dataframe\">\n",
       "  <thead>\n",
       "    <tr style=\"text-align: right;\">\n",
       "      <th></th>\n",
       "      <th>Unnamed: 0</th>\n",
       "      <th>title</th>\n",
       "      <th>text</th>\n",
       "      <th>label</th>\n",
       "      <th>label_indx</th>\n",
       "      <th>text_title</th>\n",
       "      <th>review_w2v</th>\n",
       "    </tr>\n",
       "  </thead>\n",
       "  <tbody>\n",
       "    <tr>\n",
       "      <th>0</th>\n",
       "      <td>8476</td>\n",
       "      <td>You Can Smell Hillary’s Fear</td>\n",
       "      <td>Daniel Greenfield, a Shillman Journalism Fello...</td>\n",
       "      <td>FAKE</td>\n",
       "      <td>0</td>\n",
       "      <td>You Can Smell Hillary’s Fear Daniel Greenfield...</td>\n",
       "      <td>[0.021019354, 0.011535782, 0.01510315, 0.03804...</td>\n",
       "    </tr>\n",
       "    <tr>\n",
       "      <th>1</th>\n",
       "      <td>10294</td>\n",
       "      <td>Watch The Exact Moment Paul Ryan Committed Pol...</td>\n",
       "      <td>Google Pinterest Digg Linkedin Reddit Stumbleu...</td>\n",
       "      <td>FAKE</td>\n",
       "      <td>0</td>\n",
       "      <td>Watch The Exact Moment Paul Ryan Committed Pol...</td>\n",
       "      <td>[0.028351037, 0.012072658, 0.014195253, 0.0374...</td>\n",
       "    </tr>\n",
       "    <tr>\n",
       "      <th>2</th>\n",
       "      <td>3608</td>\n",
       "      <td>Kerry to go to Paris in gesture of sympathy</td>\n",
       "      <td>U.S. Secretary of State John F. Kerry said Mon...</td>\n",
       "      <td>REAL</td>\n",
       "      <td>1</td>\n",
       "      <td>Kerry to go to Paris in gesture of sympathy U....</td>\n",
       "      <td>[0.015037107, 0.01890298, 0.023381673, 0.03267...</td>\n",
       "    </tr>\n",
       "    <tr>\n",
       "      <th>3</th>\n",
       "      <td>10142</td>\n",
       "      <td>Bernie supporters on Twitter erupt in anger ag...</td>\n",
       "      <td>— Kaydee King (@KaydeeKing) November 9, 2016 T...</td>\n",
       "      <td>FAKE</td>\n",
       "      <td>0</td>\n",
       "      <td>Bernie supporters on Twitter erupt in anger ag...</td>\n",
       "      <td>[0.02599342, 0.010433259, 0.009896552, 0.03122...</td>\n",
       "    </tr>\n",
       "    <tr>\n",
       "      <th>4</th>\n",
       "      <td>875</td>\n",
       "      <td>The Battle of New York: Why This Primary Matters</td>\n",
       "      <td>It's primary day in New York and front-runners...</td>\n",
       "      <td>REAL</td>\n",
       "      <td>1</td>\n",
       "      <td>The Battle of New York: Why This Primary Matte...</td>\n",
       "      <td>[0.018483367, 0.014719523, 0.01369893, 0.02352...</td>\n",
       "    </tr>\n",
       "  </tbody>\n",
       "</table>\n",
       "</div>"
      ],
      "text/plain": [
       "   Unnamed: 0                                              title  \\\n",
       "0        8476                       You Can Smell Hillary’s Fear   \n",
       "1       10294  Watch The Exact Moment Paul Ryan Committed Pol...   \n",
       "2        3608        Kerry to go to Paris in gesture of sympathy   \n",
       "3       10142  Bernie supporters on Twitter erupt in anger ag...   \n",
       "4         875   The Battle of New York: Why This Primary Matters   \n",
       "\n",
       "                                                text label  label_indx  \\\n",
       "0  Daniel Greenfield, a Shillman Journalism Fello...  FAKE           0   \n",
       "1  Google Pinterest Digg Linkedin Reddit Stumbleu...  FAKE           0   \n",
       "2  U.S. Secretary of State John F. Kerry said Mon...  REAL           1   \n",
       "3  — Kaydee King (@KaydeeKing) November 9, 2016 T...  FAKE           0   \n",
       "4  It's primary day in New York and front-runners...  REAL           1   \n",
       "\n",
       "                                          text_title  \\\n",
       "0  You Can Smell Hillary’s Fear Daniel Greenfield...   \n",
       "1  Watch The Exact Moment Paul Ryan Committed Pol...   \n",
       "2  Kerry to go to Paris in gesture of sympathy U....   \n",
       "3  Bernie supporters on Twitter erupt in anger ag...   \n",
       "4  The Battle of New York: Why This Primary Matte...   \n",
       "\n",
       "                                          review_w2v  \n",
       "0  [0.021019354, 0.011535782, 0.01510315, 0.03804...  \n",
       "1  [0.028351037, 0.012072658, 0.014195253, 0.0374...  \n",
       "2  [0.015037107, 0.01890298, 0.023381673, 0.03267...  \n",
       "3  [0.02599342, 0.010433259, 0.009896552, 0.03122...  \n",
       "4  [0.018483367, 0.014719523, 0.01369893, 0.02352...  "
      ]
     },
     "execution_count": 12,
     "metadata": {},
     "output_type": "execute_result"
    }
   ],
   "source": [
    "df.head()"
   ]
  },
  {
   "cell_type": "markdown",
   "metadata": {},
   "source": [
    "### Spliting the data into training & test set"
   ]
  },
  {
   "cell_type": "code",
   "execution_count": 14,
   "metadata": {},
   "outputs": [],
   "source": [
    "X_train, X_test, y_train, y_test = train_test_split(\n",
    "    df.review_w2v.values,\n",
    "    df.label_indx,\n",
    "    test_size=0.2,\n",
    "    random_state=2022\n",
    ")"
   ]
  },
  {
   "cell_type": "code",
   "execution_count": 18,
   "metadata": {},
   "outputs": [
    {
     "name": "stdout",
     "output_type": "stream",
     "text": [
      "(5068, 300) (1267, 300)\n"
     ]
    }
   ],
   "source": [
    "import numpy as np\n",
    "\n",
    "X_train_2d = np.stack(X_train) \n",
    "X_test_2d = np.stack(X_test) \n",
    "\n",
    "print(X_train_2d.shape, X_test_2d.shape)"
   ]
  },
  {
   "cell_type": "markdown",
   "metadata": {},
   "source": [
    "### Training the statistical ML model"
   ]
  },
  {
   "cell_type": "code",
   "execution_count": null,
   "metadata": {},
   "outputs": [],
   "source": [
    "linear_model = LogisticRegression()\n",
    "\n",
    "linear_model.fit(X_train_2d, y_train)"
   ]
  }
 ],
 "metadata": {
  "kernelspec": {
   "display_name": "base",
   "language": "python",
   "name": "python3"
  },
  "language_info": {
   "codemirror_mode": {
    "name": "ipython",
    "version": 3
   },
   "file_extension": ".py",
   "mimetype": "text/x-python",
   "name": "python",
   "nbconvert_exporter": "python",
   "pygments_lexer": "ipython3",
   "version": "3.9.13"
  }
 },
 "nbformat": 4,
 "nbformat_minor": 2
}
